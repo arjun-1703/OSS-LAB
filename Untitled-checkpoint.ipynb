{
 "cells": [
  {
   "cell_type": "markdown",
   "id": "883ada37-f1a5-477e-a154-f527cef5ec39",
   "metadata": {},
   "source": [
    "## LAB 3"
   ]
  },
  {
   "cell_type": "markdown",
   "id": "8e697af4-ea94-4729-b4b3-29da5dd96b5a",
   "metadata": {},
   "source": [
    "#### Q1"
   ]
  },
  {
   "cell_type": "code",
   "execution_count": 6,
   "id": "83736d8b-a4d6-4042-8239-a1b2390addaa",
   "metadata": {},
   "outputs": [
    {
     "name": "stdout",
     "output_type": "stream",
     "text": [
      "a--> Yajat\n",
      "b--> Vansh\n",
      "c--> ['Anshul', 'Harshit', 'Negi']\n",
      "d--> ['Mridul', 'Vansh', 'Jayash', 'Honey', 'Dhairya', 'Negi', 'Harshit', 'Anshul', 'Suyash', 'Yajat', 'Shivansh']\n",
      "e--> ['Jayash', 'Honey', 'Dhairya', 'Negi', 'Harshit', 'Anshul']\n"
     ]
    }
   ],
   "source": [
    "name=[\"Shivansh\",\"Yajat\",\"Suyash\",\"Anshul\",\"Harshit\",\"Negi\",\"Dhairya\",\"Honey\",\"Jayash\",\"Vansh\",\"Mridul\"]\n",
    "print(\"a-->\",name[1])\n",
    "print(\"b-->\",name[9])\n",
    "print(\"c-->\",name[3:6])\n",
    "print(\"d-->\",name[::-1])\n",
    "print(\"e-->\",name[8:2:-1])"
   ]
  },
  {
   "cell_type": "markdown",
   "id": "399ae805-139a-4b2c-a6e1-9c2a155c6de1",
   "metadata": {},
   "source": [
    "#### Q2"
   ]
  },
  {
   "cell_type": "code",
   "execution_count": 10,
   "id": "80d8a2ff-ce92-4ad7-9eeb-3f049f0f818a",
   "metadata": {},
   "outputs": [
    {
     "name": "stdout",
     "output_type": "stream",
     "text": [
      "a-->\n",
      "Anshul\n",
      "Honey\n",
      "Avinash\n",
      "Divij\n",
      "Prish\n",
      "('Honey', 'Avinash', 'Divij')\n"
     ]
    }
   ],
   "source": [
    "stu = (\"Anshul\",\"Honey\",\"Avinash\",\"Divij\",\"Prish\")\n",
    "print(\"a-->\")\n",
    "for i in stu :\n",
    "    print(i);\n",
    "print(stu[1:4])\n",
    "#cannot delete, add or modify elements as tuples are immutable"
   ]
  },
  {
   "cell_type": "markdown",
   "id": "aeeba9c1-29d1-4bc3-8a40-b15751de887f",
   "metadata": {},
   "source": [
    "#### Q3"
   ]
  },
  {
   "cell_type": "code",
   "execution_count": 22,
   "id": "14328c66-89d9-4b5b-8fed-619e9fafa211",
   "metadata": {},
   "outputs": [
    {
     "name": "stdout",
     "output_type": "stream",
     "text": [
      "Arjun:21\n",
      "------------------------\n",
      "Anshul:20\n",
      "Arjun:21\n",
      "Honey:19\n",
      "Avinash:20\n",
      "Prish:30\n",
      "------------------------\n",
      "Anshul:20\n",
      "Arjun:21\n",
      "Honey:19\n",
      "Prish:30\n",
      "------------------------\n"
     ]
    }
   ],
   "source": [
    "dict={'Anshul':20,'Arjun':21,'Honey':19,'Avinash':20}\n",
    "for name,age in dict.items():\n",
    "    if age>20:\n",
    "        print(f\"{name}:{age}\")\n",
    "dict['Prish']=30\n",
    "print(\"------------------------\")\n",
    "for name,age in dict.items():\n",
    "    print(f\"{name}:{age}\")\n",
    "print(\"------------------------\")\n",
    "if \"Avinash\" in dict:\n",
    "    del dict[\"Avinash\"]\n",
    "for name,age in dict.items():\n",
    "    print(f\"{name}:{age}\")\n",
    "print(\"------------------------\")\n",
    "total=0;\n",
    "\n",
    "    \n"
   ]
  },
  {
   "cell_type": "code",
   "execution_count": null,
   "id": "aced6a6f-8c16-4b94-86d9-b8f4b6f9d3f4",
   "metadata": {},
   "outputs": [],
   "source": []
  }
 ],
 "metadata": {
  "kernelspec": {
   "display_name": "Python 3 (ipykernel)",
   "language": "python",
   "name": "python3"
  },
  "language_info": {
   "codemirror_mode": {
    "name": "ipython",
    "version": 3
   },
   "file_extension": ".py",
   "mimetype": "text/x-python",
   "name": "python",
   "nbconvert_exporter": "python",
   "pygments_lexer": "ipython3",
   "version": "3.11.7"
  }
 },
 "nbformat": 4,
 "nbformat_minor": 5
}
